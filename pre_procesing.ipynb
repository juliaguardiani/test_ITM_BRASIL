{
  "nbformat": 4,
  "nbformat_minor": 0,
  "metadata": {
    "colab": {
      "name": "pre-procesing.ipynb",
      "provenance": [],
      "authorship_tag": "ABX9TyNk0BfMKFPC1W01LajtfJxk",
      "include_colab_link": true
    },
    "kernelspec": {
      "name": "python3",
      "display_name": "Python 3"
    },
    "language_info": {
      "name": "python"
    },
    "widgets": {
      "application/vnd.jupyter.widget-state+json": {
        "b3994fc810a346d7b2fc0d1657f106b9": {
          "model_module": "@jupyter-widgets/controls",
          "model_name": "VBoxModel",
          "model_module_version": "1.5.0",
          "state": {
            "_dom_classes": [],
            "_model_module": "@jupyter-widgets/controls",
            "_model_module_version": "1.5.0",
            "_model_name": "VBoxModel",
            "_view_count": null,
            "_view_module": "@jupyter-widgets/controls",
            "_view_module_version": "1.5.0",
            "_view_name": "VBoxView",
            "box_style": "",
            "children": [
              "IPY_MODEL_2be0be271adb4dc3b6397a5268769869",
              "IPY_MODEL_2046e24a468a433a8edc6023953800b0"
            ],
            "layout": "IPY_MODEL_94cabc3e14a9488dba63396581f27ea4"
          }
        },
        "2be0be271adb4dc3b6397a5268769869": {
          "model_module": "@jupyter-widgets/controls",
          "model_name": "LabelModel",
          "model_module_version": "1.5.0",
          "state": {
            "_dom_classes": [],
            "_model_module": "@jupyter-widgets/controls",
            "_model_module_version": "1.5.0",
            "_model_name": "LabelModel",
            "_view_count": null,
            "_view_module": "@jupyter-widgets/controls",
            "_view_module_version": "1.5.0",
            "_view_name": "LabelView",
            "description": "",
            "description_tooltip": null,
            "layout": "IPY_MODEL_9a5054d0048c467c9dbddd943b1633db",
            "placeholder": "​",
            "style": "IPY_MODEL_543e2d68cb6844c888b887b1d082b22a",
            "value": "0.090 MB of 0.090 MB uploaded (0.000 MB deduped)\r"
          }
        },
        "2046e24a468a433a8edc6023953800b0": {
          "model_module": "@jupyter-widgets/controls",
          "model_name": "FloatProgressModel",
          "model_module_version": "1.5.0",
          "state": {
            "_dom_classes": [],
            "_model_module": "@jupyter-widgets/controls",
            "_model_module_version": "1.5.0",
            "_model_name": "FloatProgressModel",
            "_view_count": null,
            "_view_module": "@jupyter-widgets/controls",
            "_view_module_version": "1.5.0",
            "_view_name": "ProgressView",
            "bar_style": "",
            "description": "",
            "description_tooltip": null,
            "layout": "IPY_MODEL_91903fea56fe43e89b85708db2a99b1b",
            "max": 1,
            "min": 0,
            "orientation": "horizontal",
            "style": "IPY_MODEL_452a53434abf49c9a3b8d8b123126c53",
            "value": 1
          }
        },
        "94cabc3e14a9488dba63396581f27ea4": {
          "model_module": "@jupyter-widgets/base",
          "model_name": "LayoutModel",
          "model_module_version": "1.2.0",
          "state": {
            "_model_module": "@jupyter-widgets/base",
            "_model_module_version": "1.2.0",
            "_model_name": "LayoutModel",
            "_view_count": null,
            "_view_module": "@jupyter-widgets/base",
            "_view_module_version": "1.2.0",
            "_view_name": "LayoutView",
            "align_content": null,
            "align_items": null,
            "align_self": null,
            "border": null,
            "bottom": null,
            "display": null,
            "flex": null,
            "flex_flow": null,
            "grid_area": null,
            "grid_auto_columns": null,
            "grid_auto_flow": null,
            "grid_auto_rows": null,
            "grid_column": null,
            "grid_gap": null,
            "grid_row": null,
            "grid_template_areas": null,
            "grid_template_columns": null,
            "grid_template_rows": null,
            "height": null,
            "justify_content": null,
            "justify_items": null,
            "left": null,
            "margin": null,
            "max_height": null,
            "max_width": null,
            "min_height": null,
            "min_width": null,
            "object_fit": null,
            "object_position": null,
            "order": null,
            "overflow": null,
            "overflow_x": null,
            "overflow_y": null,
            "padding": null,
            "right": null,
            "top": null,
            "visibility": null,
            "width": null
          }
        },
        "9a5054d0048c467c9dbddd943b1633db": {
          "model_module": "@jupyter-widgets/base",
          "model_name": "LayoutModel",
          "model_module_version": "1.2.0",
          "state": {
            "_model_module": "@jupyter-widgets/base",
            "_model_module_version": "1.2.0",
            "_model_name": "LayoutModel",
            "_view_count": null,
            "_view_module": "@jupyter-widgets/base",
            "_view_module_version": "1.2.0",
            "_view_name": "LayoutView",
            "align_content": null,
            "align_items": null,
            "align_self": null,
            "border": null,
            "bottom": null,
            "display": null,
            "flex": null,
            "flex_flow": null,
            "grid_area": null,
            "grid_auto_columns": null,
            "grid_auto_flow": null,
            "grid_auto_rows": null,
            "grid_column": null,
            "grid_gap": null,
            "grid_row": null,
            "grid_template_areas": null,
            "grid_template_columns": null,
            "grid_template_rows": null,
            "height": null,
            "justify_content": null,
            "justify_items": null,
            "left": null,
            "margin": null,
            "max_height": null,
            "max_width": null,
            "min_height": null,
            "min_width": null,
            "object_fit": null,
            "object_position": null,
            "order": null,
            "overflow": null,
            "overflow_x": null,
            "overflow_y": null,
            "padding": null,
            "right": null,
            "top": null,
            "visibility": null,
            "width": null
          }
        },
        "543e2d68cb6844c888b887b1d082b22a": {
          "model_module": "@jupyter-widgets/controls",
          "model_name": "DescriptionStyleModel",
          "model_module_version": "1.5.0",
          "state": {
            "_model_module": "@jupyter-widgets/controls",
            "_model_module_version": "1.5.0",
            "_model_name": "DescriptionStyleModel",
            "_view_count": null,
            "_view_module": "@jupyter-widgets/base",
            "_view_module_version": "1.2.0",
            "_view_name": "StyleView",
            "description_width": ""
          }
        },
        "91903fea56fe43e89b85708db2a99b1b": {
          "model_module": "@jupyter-widgets/base",
          "model_name": "LayoutModel",
          "model_module_version": "1.2.0",
          "state": {
            "_model_module": "@jupyter-widgets/base",
            "_model_module_version": "1.2.0",
            "_model_name": "LayoutModel",
            "_view_count": null,
            "_view_module": "@jupyter-widgets/base",
            "_view_module_version": "1.2.0",
            "_view_name": "LayoutView",
            "align_content": null,
            "align_items": null,
            "align_self": null,
            "border": null,
            "bottom": null,
            "display": null,
            "flex": null,
            "flex_flow": null,
            "grid_area": null,
            "grid_auto_columns": null,
            "grid_auto_flow": null,
            "grid_auto_rows": null,
            "grid_column": null,
            "grid_gap": null,
            "grid_row": null,
            "grid_template_areas": null,
            "grid_template_columns": null,
            "grid_template_rows": null,
            "height": null,
            "justify_content": null,
            "justify_items": null,
            "left": null,
            "margin": null,
            "max_height": null,
            "max_width": null,
            "min_height": null,
            "min_width": null,
            "object_fit": null,
            "object_position": null,
            "order": null,
            "overflow": null,
            "overflow_x": null,
            "overflow_y": null,
            "padding": null,
            "right": null,
            "top": null,
            "visibility": null,
            "width": null
          }
        },
        "452a53434abf49c9a3b8d8b123126c53": {
          "model_module": "@jupyter-widgets/controls",
          "model_name": "ProgressStyleModel",
          "model_module_version": "1.5.0",
          "state": {
            "_model_module": "@jupyter-widgets/controls",
            "_model_module_version": "1.5.0",
            "_model_name": "ProgressStyleModel",
            "_view_count": null,
            "_view_module": "@jupyter-widgets/base",
            "_view_module_version": "1.2.0",
            "_view_name": "StyleView",
            "bar_color": null,
            "description_width": ""
          }
        }
      }
    }
  },
  "cells": [
    {
      "cell_type": "markdown",
      "metadata": {
        "id": "view-in-github",
        "colab_type": "text"
      },
      "source": [
        "<a href=\"https://colab.research.google.com/github/juliaguardiani/test_ITM_BRASIL/blob/main/pre_procesing.ipynb\" target=\"_parent\"><img src=\"https://colab.research.google.com/assets/colab-badge.svg\" alt=\"Open In Colab\"/></a>"
      ]
    },
    {
      "cell_type": "code",
      "source": [
        "!pip install wandb"
      ],
      "metadata": {
        "id": "AVflWwxmOGFM"
      },
      "execution_count": null,
      "outputs": []
    },
    {
      "cell_type": "code",
      "source": [
        "!pip install pandas-profiling==3.1.0"
      ],
      "metadata": {
        "id": "lKPchAHtOIjz"
      },
      "execution_count": null,
      "outputs": []
    },
    {
      "cell_type": "code",
      "source": [
        "import wandb\n",
        "import matplotlib.pyplot as plt\n",
        "import seaborn as sns\n",
        "import pandas as pd\n",
        "import numpy as np\n",
        "from pandas_profiling import ProfileReport\n",
        "import tempfile\n",
        "import os"
      ],
      "metadata": {
        "id": "7eP_AracOELw"
      },
      "execution_count": 3,
      "outputs": []
    },
    {
      "cell_type": "markdown",
      "source": [
        "# 1.0 Fetch Data"
      ],
      "metadata": {
        "id": "X7gjCxC9Op3k"
      }
    },
    {
      "cell_type": "code",
      "execution_count": 4,
      "metadata": {
        "colab": {
          "base_uri": "https://localhost:8080/",
          "height": 299
        },
        "id": "6GLWQ8SpYz8h",
        "outputId": "2d57d748-f2f9-406b-f861-48eb76931eda"
      },
      "outputs": [
        {
          "output_type": "execute_result",
          "data": {
            "text/plain": [
              "   marca_id    marca antiss    AV    BA    BC  DRML dresc    DI   EEG  ...  \\\n",
              "0         1   Adidas   0,25  0,25  0,25     0  0,25  0,25  0,25  0,25  ...   \n",
              "1         2  Animale   0,25  0,25     0  0,25  0,25  0,25  0,25  0,25  ...   \n",
              "2         3   Aramis      0  0,25     0     0  0,25  0,25  0,25     0  ...   \n",
              "3         4   Arezzo   0,25  0,25     0  0,25     0  0,25  0,25  0,25  ...   \n",
              "4         5    Besni      0     0     0     0     0     0     0     0  ...   \n",
              "\n",
              "  RR_02 RRP_02 SBF_02 SS_02 SMB.1 subc_02 TC_02 TEC_02 TI_02 usuAgua_02  \n",
              "0   0,5    0,5    0,5   0,5   0,5     0,5     0    0,5   0,5        0,5  \n",
              "1     0    0,5    0,5     0   0,5       0     0      0   0,5          0  \n",
              "2     0      0      0   0,5   0,5       0     0      0     0        0,5  \n",
              "3   0,5    0,5      0   0,5   0,5       0     0      0   0,5          0  \n",
              "4     0      0      0     0     0       0     0      0     0          0  \n",
              "\n",
              "[5 rows x 78 columns]"
            ],
            "text/html": [
              "\n",
              "  <div id=\"df-37d8e5c3-b769-42f4-80d5-214cfed36b08\">\n",
              "    <div class=\"colab-df-container\">\n",
              "      <div>\n",
              "<style scoped>\n",
              "    .dataframe tbody tr th:only-of-type {\n",
              "        vertical-align: middle;\n",
              "    }\n",
              "\n",
              "    .dataframe tbody tr th {\n",
              "        vertical-align: top;\n",
              "    }\n",
              "\n",
              "    .dataframe thead th {\n",
              "        text-align: right;\n",
              "    }\n",
              "</style>\n",
              "<table border=\"1\" class=\"dataframe\">\n",
              "  <thead>\n",
              "    <tr style=\"text-align: right;\">\n",
              "      <th></th>\n",
              "      <th>marca_id</th>\n",
              "      <th>marca</th>\n",
              "      <th>antiss</th>\n",
              "      <th>AV</th>\n",
              "      <th>BA</th>\n",
              "      <th>BC</th>\n",
              "      <th>DRML</th>\n",
              "      <th>dresc</th>\n",
              "      <th>DI</th>\n",
              "      <th>EEG</th>\n",
              "      <th>...</th>\n",
              "      <th>RR_02</th>\n",
              "      <th>RRP_02</th>\n",
              "      <th>SBF_02</th>\n",
              "      <th>SS_02</th>\n",
              "      <th>SMB.1</th>\n",
              "      <th>subc_02</th>\n",
              "      <th>TC_02</th>\n",
              "      <th>TEC_02</th>\n",
              "      <th>TI_02</th>\n",
              "      <th>usuAgua_02</th>\n",
              "    </tr>\n",
              "  </thead>\n",
              "  <tbody>\n",
              "    <tr>\n",
              "      <th>0</th>\n",
              "      <td>1</td>\n",
              "      <td>Adidas</td>\n",
              "      <td>0,25</td>\n",
              "      <td>0,25</td>\n",
              "      <td>0,25</td>\n",
              "      <td>0</td>\n",
              "      <td>0,25</td>\n",
              "      <td>0,25</td>\n",
              "      <td>0,25</td>\n",
              "      <td>0,25</td>\n",
              "      <td>...</td>\n",
              "      <td>0,5</td>\n",
              "      <td>0,5</td>\n",
              "      <td>0,5</td>\n",
              "      <td>0,5</td>\n",
              "      <td>0,5</td>\n",
              "      <td>0,5</td>\n",
              "      <td>0</td>\n",
              "      <td>0,5</td>\n",
              "      <td>0,5</td>\n",
              "      <td>0,5</td>\n",
              "    </tr>\n",
              "    <tr>\n",
              "      <th>1</th>\n",
              "      <td>2</td>\n",
              "      <td>Animale</td>\n",
              "      <td>0,25</td>\n",
              "      <td>0,25</td>\n",
              "      <td>0</td>\n",
              "      <td>0,25</td>\n",
              "      <td>0,25</td>\n",
              "      <td>0,25</td>\n",
              "      <td>0,25</td>\n",
              "      <td>0,25</td>\n",
              "      <td>...</td>\n",
              "      <td>0</td>\n",
              "      <td>0,5</td>\n",
              "      <td>0,5</td>\n",
              "      <td>0</td>\n",
              "      <td>0,5</td>\n",
              "      <td>0</td>\n",
              "      <td>0</td>\n",
              "      <td>0</td>\n",
              "      <td>0,5</td>\n",
              "      <td>0</td>\n",
              "    </tr>\n",
              "    <tr>\n",
              "      <th>2</th>\n",
              "      <td>3</td>\n",
              "      <td>Aramis</td>\n",
              "      <td>0</td>\n",
              "      <td>0,25</td>\n",
              "      <td>0</td>\n",
              "      <td>0</td>\n",
              "      <td>0,25</td>\n",
              "      <td>0,25</td>\n",
              "      <td>0,25</td>\n",
              "      <td>0</td>\n",
              "      <td>...</td>\n",
              "      <td>0</td>\n",
              "      <td>0</td>\n",
              "      <td>0</td>\n",
              "      <td>0,5</td>\n",
              "      <td>0,5</td>\n",
              "      <td>0</td>\n",
              "      <td>0</td>\n",
              "      <td>0</td>\n",
              "      <td>0</td>\n",
              "      <td>0,5</td>\n",
              "    </tr>\n",
              "    <tr>\n",
              "      <th>3</th>\n",
              "      <td>4</td>\n",
              "      <td>Arezzo</td>\n",
              "      <td>0,25</td>\n",
              "      <td>0,25</td>\n",
              "      <td>0</td>\n",
              "      <td>0,25</td>\n",
              "      <td>0</td>\n",
              "      <td>0,25</td>\n",
              "      <td>0,25</td>\n",
              "      <td>0,25</td>\n",
              "      <td>...</td>\n",
              "      <td>0,5</td>\n",
              "      <td>0,5</td>\n",
              "      <td>0</td>\n",
              "      <td>0,5</td>\n",
              "      <td>0,5</td>\n",
              "      <td>0</td>\n",
              "      <td>0</td>\n",
              "      <td>0</td>\n",
              "      <td>0,5</td>\n",
              "      <td>0</td>\n",
              "    </tr>\n",
              "    <tr>\n",
              "      <th>4</th>\n",
              "      <td>5</td>\n",
              "      <td>Besni</td>\n",
              "      <td>0</td>\n",
              "      <td>0</td>\n",
              "      <td>0</td>\n",
              "      <td>0</td>\n",
              "      <td>0</td>\n",
              "      <td>0</td>\n",
              "      <td>0</td>\n",
              "      <td>0</td>\n",
              "      <td>...</td>\n",
              "      <td>0</td>\n",
              "      <td>0</td>\n",
              "      <td>0</td>\n",
              "      <td>0</td>\n",
              "      <td>0</td>\n",
              "      <td>0</td>\n",
              "      <td>0</td>\n",
              "      <td>0</td>\n",
              "      <td>0</td>\n",
              "      <td>0</td>\n",
              "    </tr>\n",
              "  </tbody>\n",
              "</table>\n",
              "<p>5 rows × 78 columns</p>\n",
              "</div>\n",
              "      <button class=\"colab-df-convert\" onclick=\"convertToInteractive('df-37d8e5c3-b769-42f4-80d5-214cfed36b08')\"\n",
              "              title=\"Convert this dataframe to an interactive table.\"\n",
              "              style=\"display:none;\">\n",
              "        \n",
              "  <svg xmlns=\"http://www.w3.org/2000/svg\" height=\"24px\"viewBox=\"0 0 24 24\"\n",
              "       width=\"24px\">\n",
              "    <path d=\"M0 0h24v24H0V0z\" fill=\"none\"/>\n",
              "    <path d=\"M18.56 5.44l.94 2.06.94-2.06 2.06-.94-2.06-.94-.94-2.06-.94 2.06-2.06.94zm-11 1L8.5 8.5l.94-2.06 2.06-.94-2.06-.94L8.5 2.5l-.94 2.06-2.06.94zm10 10l.94 2.06.94-2.06 2.06-.94-2.06-.94-.94-2.06-.94 2.06-2.06.94z\"/><path d=\"M17.41 7.96l-1.37-1.37c-.4-.4-.92-.59-1.43-.59-.52 0-1.04.2-1.43.59L10.3 9.45l-7.72 7.72c-.78.78-.78 2.05 0 2.83L4 21.41c.39.39.9.59 1.41.59.51 0 1.02-.2 1.41-.59l7.78-7.78 2.81-2.81c.8-.78.8-2.07 0-2.86zM5.41 20L4 18.59l7.72-7.72 1.47 1.35L5.41 20z\"/>\n",
              "  </svg>\n",
              "      </button>\n",
              "      \n",
              "  <style>\n",
              "    .colab-df-container {\n",
              "      display:flex;\n",
              "      flex-wrap:wrap;\n",
              "      gap: 12px;\n",
              "    }\n",
              "\n",
              "    .colab-df-convert {\n",
              "      background-color: #E8F0FE;\n",
              "      border: none;\n",
              "      border-radius: 50%;\n",
              "      cursor: pointer;\n",
              "      display: none;\n",
              "      fill: #1967D2;\n",
              "      height: 32px;\n",
              "      padding: 0 0 0 0;\n",
              "      width: 32px;\n",
              "    }\n",
              "\n",
              "    .colab-df-convert:hover {\n",
              "      background-color: #E2EBFA;\n",
              "      box-shadow: 0px 1px 2px rgba(60, 64, 67, 0.3), 0px 1px 3px 1px rgba(60, 64, 67, 0.15);\n",
              "      fill: #174EA6;\n",
              "    }\n",
              "\n",
              "    [theme=dark] .colab-df-convert {\n",
              "      background-color: #3B4455;\n",
              "      fill: #D2E3FC;\n",
              "    }\n",
              "\n",
              "    [theme=dark] .colab-df-convert:hover {\n",
              "      background-color: #434B5C;\n",
              "      box-shadow: 0px 1px 3px 1px rgba(0, 0, 0, 0.15);\n",
              "      filter: drop-shadow(0px 1px 2px rgba(0, 0, 0, 0.3));\n",
              "      fill: #FFFFFF;\n",
              "    }\n",
              "  </style>\n",
              "\n",
              "      <script>\n",
              "        const buttonEl =\n",
              "          document.querySelector('#df-37d8e5c3-b769-42f4-80d5-214cfed36b08 button.colab-df-convert');\n",
              "        buttonEl.style.display =\n",
              "          google.colab.kernel.accessAllowed ? 'block' : 'none';\n",
              "\n",
              "        async function convertToInteractive(key) {\n",
              "          const element = document.querySelector('#df-37d8e5c3-b769-42f4-80d5-214cfed36b08');\n",
              "          const dataTable =\n",
              "            await google.colab.kernel.invokeFunction('convertToInteractive',\n",
              "                                                     [key], {});\n",
              "          if (!dataTable) return;\n",
              "\n",
              "          const docLinkHtml = 'Like what you see? Visit the ' +\n",
              "            '<a target=\"_blank\" href=https://colab.research.google.com/notebooks/data_table.ipynb>data table notebook</a>'\n",
              "            + ' to learn more about interactive tables.';\n",
              "          element.innerHTML = '';\n",
              "          dataTable['output_type'] = 'display_data';\n",
              "          await google.colab.output.renderOutput(dataTable, element);\n",
              "          const docLink = document.createElement('div');\n",
              "          docLink.innerHTML = docLinkHtml;\n",
              "          element.appendChild(docLink);\n",
              "        }\n",
              "      </script>\n",
              "    </div>\n",
              "  </div>\n",
              "  "
            ]
          },
          "metadata": {},
          "execution_count": 4
        }
      ],
      "source": [
        "# importing the dataset\n",
        "income = pd.read_csv(\"https://raw.githubusercontent.com/juliaguardiani/test_ITM_BRASIL/main/tabelaFinal.csv\")\n",
        "income.head()"
      ]
    },
    {
      "cell_type": "code",
      "source": [
        "income.to_csv(\"ITM_BRASIL_2021_data.csv\",index=False)"
      ],
      "metadata": {
        "id": "NDX1bzN8ONQ0"
      },
      "execution_count": 5,
      "outputs": []
    },
    {
      "cell_type": "code",
      "source": [
        "# Login to Weights & Biases\n",
        "!wandb login --relogin"
      ],
      "metadata": {
        "colab": {
          "base_uri": "https://localhost:8080/"
        },
        "id": "yKZJoTM0OS__",
        "outputId": "c7c0d53f-2d21-4653-aa2b-5c6c4cdf6227"
      },
      "execution_count": 6,
      "outputs": [
        {
          "output_type": "stream",
          "name": "stdout",
          "text": [
            "\u001b[34m\u001b[1mwandb\u001b[0m: You can find your API key in your browser here: https://wandb.ai/authorize\n",
            "\u001b[34m\u001b[1mwandb\u001b[0m: Paste an API key from your profile and hit enter, or press ctrl+c to quit: \n",
            "\u001b[34m\u001b[1mwandb\u001b[0m: Appending key for api.wandb.ai to your netrc file: /root/.netrc\n"
          ]
        }
      ]
    },
    {
      "cell_type": "code",
      "source": [
        "# save_code tracking all changes of the notebook and sync with Wandb\n",
        "run = wandb.init(project=\"decision_tree\", save_code=True)"
      ],
      "metadata": {
        "colab": {
          "base_uri": "https://localhost:8080/",
          "height": 70
        },
        "id": "MrD3rAyVOTkF",
        "outputId": "06df31a8-2f05-407b-eb72-77cf28fbadf4"
      },
      "execution_count": 7,
      "outputs": [
        {
          "output_type": "display_data",
          "data": {
            "text/plain": [
              "<IPython.core.display.HTML object>"
            ],
            "text/html": [
              "Tracking run with wandb version 0.12.17"
            ]
          },
          "metadata": {}
        },
        {
          "output_type": "display_data",
          "data": {
            "text/plain": [
              "<IPython.core.display.HTML object>"
            ],
            "text/html": [
              "Run data is saved locally in <code>/content/wandb/run-20220531_010614-hoa12u8o</code>"
            ]
          },
          "metadata": {}
        },
        {
          "output_type": "display_data",
          "data": {
            "text/plain": [
              "<IPython.core.display.HTML object>"
            ],
            "text/html": [
              "Syncing run <strong><a href=\"https://wandb.ai/juliaguardiani/decision_tree/runs/hoa12u8o\" target=\"_blank\">exalted-brook-1</a></strong> to <a href=\"https://wandb.ai/juliaguardiani/decision_tree\" target=\"_blank\">Weights & Biases</a> (<a href=\"https://wandb.me/run\" target=\"_blank\">docs</a>)<br/>"
            ]
          },
          "metadata": {}
        }
      ]
    },
    {
      "cell_type": "code",
      "source": [
        "# Send the raw_data.csv to the Wandb storing it as an artifact\n",
        "!wandb artifact put \\\n",
        "      --name decision_tree/ITM_BRASIL_2021_data.csv \\\n",
        "      --type raw_data \\\n",
        "      --description \"ÍNDICE DE TRANSPARÊNCIA DA MODA BRASIL 2021\" ITM_BRASIL_2021_data.csv"
      ],
      "metadata": {
        "colab": {
          "base_uri": "https://localhost:8080/"
        },
        "id": "CjQNmwzTOamv",
        "outputId": "56991f05-e309-41d1-9cfb-4d018d6021c7"
      },
      "execution_count": 8,
      "outputs": [
        {
          "output_type": "stream",
          "name": "stdout",
          "text": [
            "\u001b[34m\u001b[1mwandb\u001b[0m: Uploading file ITM_BRASIL_2021_data.csv to: \"juliaguardiani/decision_tree/ITM_BRASIL_2021_data.csv:latest\" (raw_data)\n",
            "\u001b[34m\u001b[1mwandb\u001b[0m: Currently logged in as: \u001b[33mjuliaguardiani\u001b[0m. Use \u001b[1m`wandb login --relogin`\u001b[0m to force relogin\n",
            "\u001b[34m\u001b[1mwandb\u001b[0m: Tracking run with wandb version 0.12.17\n",
            "\u001b[34m\u001b[1mwandb\u001b[0m: Run data is saved locally in \u001b[35m\u001b[1m/content/wandb/run-20220531_010625-6lnp4w5g\u001b[0m\n",
            "\u001b[34m\u001b[1mwandb\u001b[0m: Run \u001b[1m`wandb offline`\u001b[0m to turn off syncing.\n",
            "\u001b[34m\u001b[1mwandb\u001b[0m: Syncing run \u001b[33mamber-river-2\u001b[0m\n",
            "\u001b[34m\u001b[1mwandb\u001b[0m: ⭐️ View project at \u001b[34m\u001b[4mhttps://wandb.ai/juliaguardiani/decision_tree\u001b[0m\n",
            "\u001b[34m\u001b[1mwandb\u001b[0m: 🚀 View run at \u001b[34m\u001b[4mhttps://wandb.ai/juliaguardiani/decision_tree/runs/6lnp4w5g\u001b[0m\n",
            "Artifact uploaded, use this artifact in a run by adding:\n",
            "\n",
            "    artifact = run.use_artifact(\"juliaguardiani/decision_tree/ITM_BRASIL_2021_data.csv:latest\")\n",
            "\n",
            "\u001b[34m\u001b[1mwandb\u001b[0m: Waiting for W&B process to finish... \u001b[32m(success).\u001b[0m\n",
            "\u001b[34m\u001b[1mwandb\u001b[0m:                                                                                \n",
            "\u001b[34m\u001b[1mwandb\u001b[0m: Synced \u001b[33mamber-river-2\u001b[0m: \u001b[34m\u001b[4mhttps://wandb.ai/juliaguardiani/decision_tree/runs/6lnp4w5g\u001b[0m\n",
            "\u001b[34m\u001b[1mwandb\u001b[0m: Synced 5 W&B file(s), 0 media file(s), 1 artifact file(s) and 0 other file(s)\n",
            "\u001b[34m\u001b[1mwandb\u001b[0m: Find logs at: \u001b[35m\u001b[1m./wandb/run-20220531_010625-6lnp4w5g/logs\u001b[0m\n"
          ]
        }
      ]
    },
    {
      "cell_type": "markdown",
      "source": [
        "# 2.0 Pre-procesing"
      ],
      "metadata": {
        "id": "FXIcDpaFOtDZ"
      }
    },
    {
      "cell_type": "code",
      "source": [
        "input_artifact=\"decision_tree/ITM_BRASIL_2021_data.csv:latest\"\n",
        "artifact_name=\"preprocessed_data.csv\"\n",
        "artifact_type=\"clean_data\"\n",
        "artifact_description=\"Data after preprocessing\""
      ],
      "metadata": {
        "id": "r8680S5KOieD"
      },
      "execution_count": 9,
      "outputs": []
    },
    {
      "cell_type": "code",
      "source": [
        "# create a new job_type\n",
        "run = wandb.init(project=\"decision_tree\", job_type=\"process_data\")"
      ],
      "metadata": {
        "colab": {
          "base_uri": "https://localhost:8080/",
          "height": 175,
          "referenced_widgets": [
            "b3994fc810a346d7b2fc0d1657f106b9",
            "2be0be271adb4dc3b6397a5268769869",
            "2046e24a468a433a8edc6023953800b0",
            "94cabc3e14a9488dba63396581f27ea4",
            "9a5054d0048c467c9dbddd943b1633db",
            "543e2d68cb6844c888b887b1d082b22a",
            "91903fea56fe43e89b85708db2a99b1b",
            "452a53434abf49c9a3b8d8b123126c53"
          ]
        },
        "id": "VvaXd81shjIE",
        "outputId": "5914b1e6-7bda-47ff-c996-a2f3a1c93b1d"
      },
      "execution_count": 10,
      "outputs": [
        {
          "output_type": "display_data",
          "data": {
            "text/plain": [
              "<IPython.core.display.HTML object>"
            ],
            "text/html": [
              "Finishing last run (ID:hoa12u8o) before initializing another..."
            ]
          },
          "metadata": {}
        },
        {
          "output_type": "display_data",
          "data": {
            "text/plain": [
              "<IPython.core.display.HTML object>"
            ],
            "text/html": [
              "Waiting for W&B process to finish... <strong style=\"color:green\">(success).</strong>"
            ]
          },
          "metadata": {}
        },
        {
          "output_type": "display_data",
          "data": {
            "text/plain": [
              "VBox(children=(Label(value='0.076 MB of 0.076 MB uploaded (0.000 MB deduped)\\r'), FloatProgress(value=1.0, max…"
            ],
            "application/vnd.jupyter.widget-view+json": {
              "version_major": 2,
              "version_minor": 0,
              "model_id": "b3994fc810a346d7b2fc0d1657f106b9"
            }
          },
          "metadata": {}
        },
        {
          "output_type": "display_data",
          "data": {
            "text/plain": [
              "<IPython.core.display.HTML object>"
            ],
            "text/html": [
              "Synced <strong style=\"color:#cdcd00\">exalted-brook-1</strong>: <a href=\"https://wandb.ai/juliaguardiani/decision_tree/runs/hoa12u8o\" target=\"_blank\">https://wandb.ai/juliaguardiani/decision_tree/runs/hoa12u8o</a><br/>Synced 5 W&B file(s), 0 media file(s), 5 artifact file(s) and 1 other file(s)"
            ]
          },
          "metadata": {}
        },
        {
          "output_type": "display_data",
          "data": {
            "text/plain": [
              "<IPython.core.display.HTML object>"
            ],
            "text/html": [
              "Find logs at: <code>./wandb/run-20220531_010614-hoa12u8o/logs</code>"
            ]
          },
          "metadata": {}
        },
        {
          "output_type": "display_data",
          "data": {
            "text/plain": [
              "<IPython.core.display.HTML object>"
            ],
            "text/html": [
              "Successfully finished last run (ID:hoa12u8o). Initializing new run:<br/>"
            ]
          },
          "metadata": {}
        },
        {
          "output_type": "display_data",
          "data": {
            "text/plain": [
              "<IPython.core.display.HTML object>"
            ],
            "text/html": [
              "Tracking run with wandb version 0.12.17"
            ]
          },
          "metadata": {}
        },
        {
          "output_type": "display_data",
          "data": {
            "text/plain": [
              "<IPython.core.display.HTML object>"
            ],
            "text/html": [
              "Run data is saved locally in <code>/content/wandb/run-20220531_010645-ueamcn5b</code>"
            ]
          },
          "metadata": {}
        },
        {
          "output_type": "display_data",
          "data": {
            "text/plain": [
              "<IPython.core.display.HTML object>"
            ],
            "text/html": [
              "Syncing run <strong><a href=\"https://wandb.ai/juliaguardiani/decision_tree/runs/ueamcn5b\" target=\"_blank\">fearless-star-3</a></strong> to <a href=\"https://wandb.ai/juliaguardiani/decision_tree\" target=\"_blank\">Weights & Biases</a> (<a href=\"https://wandb.me/run\" target=\"_blank\">docs</a>)<br/>"
            ]
          },
          "metadata": {}
        }
      ]
    },
    {
      "cell_type": "code",
      "source": [
        "# donwload the latest version of artifact raw_data.csv\n",
        "artifact = run.use_artifact(input_artifact)\n",
        "\n",
        "# create a dataframe from the artifact\n",
        "df_total = pd.read_csv(artifact.file())"
      ],
      "metadata": {
        "id": "9hA8d9oXhnT1"
      },
      "execution_count": 11,
      "outputs": []
    },
    {
      "cell_type": "code",
      "source": [
        "df_total.head()"
      ],
      "metadata": {
        "colab": {
          "base_uri": "https://localhost:8080/",
          "height": 299
        },
        "id": "kTY6O5g1hyov",
        "outputId": "d8454f5e-64cb-485d-8b7c-df49352938a1"
      },
      "execution_count": 12,
      "outputs": [
        {
          "output_type": "execute_result",
          "data": {
            "text/plain": [
              "   marca_id    marca antiss    AV    BA    BC  DRML dresc    DI   EEG  ...  \\\n",
              "0         1   Adidas   0,25  0,25  0,25     0  0,25  0,25  0,25  0,25  ...   \n",
              "1         2  Animale   0,25  0,25     0  0,25  0,25  0,25  0,25  0,25  ...   \n",
              "2         3   Aramis      0  0,25     0     0  0,25  0,25  0,25     0  ...   \n",
              "3         4   Arezzo   0,25  0,25     0  0,25     0  0,25  0,25  0,25  ...   \n",
              "4         5    Besni      0     0     0     0     0     0     0     0  ...   \n",
              "\n",
              "  RR_02 RRP_02 SBF_02 SS_02 SMB.1 subc_02 TC_02 TEC_02 TI_02 usuAgua_02  \n",
              "0   0,5    0,5    0,5   0,5   0,5     0,5     0    0,5   0,5        0,5  \n",
              "1     0    0,5    0,5     0   0,5       0     0      0   0,5          0  \n",
              "2     0      0      0   0,5   0,5       0     0      0     0        0,5  \n",
              "3   0,5    0,5      0   0,5   0,5       0     0      0   0,5          0  \n",
              "4     0      0      0     0     0       0     0      0     0          0  \n",
              "\n",
              "[5 rows x 78 columns]"
            ],
            "text/html": [
              "\n",
              "  <div id=\"df-3b37b539-9e9b-4226-bc40-830e37755c3e\">\n",
              "    <div class=\"colab-df-container\">\n",
              "      <div>\n",
              "<style scoped>\n",
              "    .dataframe tbody tr th:only-of-type {\n",
              "        vertical-align: middle;\n",
              "    }\n",
              "\n",
              "    .dataframe tbody tr th {\n",
              "        vertical-align: top;\n",
              "    }\n",
              "\n",
              "    .dataframe thead th {\n",
              "        text-align: right;\n",
              "    }\n",
              "</style>\n",
              "<table border=\"1\" class=\"dataframe\">\n",
              "  <thead>\n",
              "    <tr style=\"text-align: right;\">\n",
              "      <th></th>\n",
              "      <th>marca_id</th>\n",
              "      <th>marca</th>\n",
              "      <th>antiss</th>\n",
              "      <th>AV</th>\n",
              "      <th>BA</th>\n",
              "      <th>BC</th>\n",
              "      <th>DRML</th>\n",
              "      <th>dresc</th>\n",
              "      <th>DI</th>\n",
              "      <th>EEG</th>\n",
              "      <th>...</th>\n",
              "      <th>RR_02</th>\n",
              "      <th>RRP_02</th>\n",
              "      <th>SBF_02</th>\n",
              "      <th>SS_02</th>\n",
              "      <th>SMB.1</th>\n",
              "      <th>subc_02</th>\n",
              "      <th>TC_02</th>\n",
              "      <th>TEC_02</th>\n",
              "      <th>TI_02</th>\n",
              "      <th>usuAgua_02</th>\n",
              "    </tr>\n",
              "  </thead>\n",
              "  <tbody>\n",
              "    <tr>\n",
              "      <th>0</th>\n",
              "      <td>1</td>\n",
              "      <td>Adidas</td>\n",
              "      <td>0,25</td>\n",
              "      <td>0,25</td>\n",
              "      <td>0,25</td>\n",
              "      <td>0</td>\n",
              "      <td>0,25</td>\n",
              "      <td>0,25</td>\n",
              "      <td>0,25</td>\n",
              "      <td>0,25</td>\n",
              "      <td>...</td>\n",
              "      <td>0,5</td>\n",
              "      <td>0,5</td>\n",
              "      <td>0,5</td>\n",
              "      <td>0,5</td>\n",
              "      <td>0,5</td>\n",
              "      <td>0,5</td>\n",
              "      <td>0</td>\n",
              "      <td>0,5</td>\n",
              "      <td>0,5</td>\n",
              "      <td>0,5</td>\n",
              "    </tr>\n",
              "    <tr>\n",
              "      <th>1</th>\n",
              "      <td>2</td>\n",
              "      <td>Animale</td>\n",
              "      <td>0,25</td>\n",
              "      <td>0,25</td>\n",
              "      <td>0</td>\n",
              "      <td>0,25</td>\n",
              "      <td>0,25</td>\n",
              "      <td>0,25</td>\n",
              "      <td>0,25</td>\n",
              "      <td>0,25</td>\n",
              "      <td>...</td>\n",
              "      <td>0</td>\n",
              "      <td>0,5</td>\n",
              "      <td>0,5</td>\n",
              "      <td>0</td>\n",
              "      <td>0,5</td>\n",
              "      <td>0</td>\n",
              "      <td>0</td>\n",
              "      <td>0</td>\n",
              "      <td>0,5</td>\n",
              "      <td>0</td>\n",
              "    </tr>\n",
              "    <tr>\n",
              "      <th>2</th>\n",
              "      <td>3</td>\n",
              "      <td>Aramis</td>\n",
              "      <td>0</td>\n",
              "      <td>0,25</td>\n",
              "      <td>0</td>\n",
              "      <td>0</td>\n",
              "      <td>0,25</td>\n",
              "      <td>0,25</td>\n",
              "      <td>0,25</td>\n",
              "      <td>0</td>\n",
              "      <td>...</td>\n",
              "      <td>0</td>\n",
              "      <td>0</td>\n",
              "      <td>0</td>\n",
              "      <td>0,5</td>\n",
              "      <td>0,5</td>\n",
              "      <td>0</td>\n",
              "      <td>0</td>\n",
              "      <td>0</td>\n",
              "      <td>0</td>\n",
              "      <td>0,5</td>\n",
              "    </tr>\n",
              "    <tr>\n",
              "      <th>3</th>\n",
              "      <td>4</td>\n",
              "      <td>Arezzo</td>\n",
              "      <td>0,25</td>\n",
              "      <td>0,25</td>\n",
              "      <td>0</td>\n",
              "      <td>0,25</td>\n",
              "      <td>0</td>\n",
              "      <td>0,25</td>\n",
              "      <td>0,25</td>\n",
              "      <td>0,25</td>\n",
              "      <td>...</td>\n",
              "      <td>0,5</td>\n",
              "      <td>0,5</td>\n",
              "      <td>0</td>\n",
              "      <td>0,5</td>\n",
              "      <td>0,5</td>\n",
              "      <td>0</td>\n",
              "      <td>0</td>\n",
              "      <td>0</td>\n",
              "      <td>0,5</td>\n",
              "      <td>0</td>\n",
              "    </tr>\n",
              "    <tr>\n",
              "      <th>4</th>\n",
              "      <td>5</td>\n",
              "      <td>Besni</td>\n",
              "      <td>0</td>\n",
              "      <td>0</td>\n",
              "      <td>0</td>\n",
              "      <td>0</td>\n",
              "      <td>0</td>\n",
              "      <td>0</td>\n",
              "      <td>0</td>\n",
              "      <td>0</td>\n",
              "      <td>...</td>\n",
              "      <td>0</td>\n",
              "      <td>0</td>\n",
              "      <td>0</td>\n",
              "      <td>0</td>\n",
              "      <td>0</td>\n",
              "      <td>0</td>\n",
              "      <td>0</td>\n",
              "      <td>0</td>\n",
              "      <td>0</td>\n",
              "      <td>0</td>\n",
              "    </tr>\n",
              "  </tbody>\n",
              "</table>\n",
              "<p>5 rows × 78 columns</p>\n",
              "</div>\n",
              "      <button class=\"colab-df-convert\" onclick=\"convertToInteractive('df-3b37b539-9e9b-4226-bc40-830e37755c3e')\"\n",
              "              title=\"Convert this dataframe to an interactive table.\"\n",
              "              style=\"display:none;\">\n",
              "        \n",
              "  <svg xmlns=\"http://www.w3.org/2000/svg\" height=\"24px\"viewBox=\"0 0 24 24\"\n",
              "       width=\"24px\">\n",
              "    <path d=\"M0 0h24v24H0V0z\" fill=\"none\"/>\n",
              "    <path d=\"M18.56 5.44l.94 2.06.94-2.06 2.06-.94-2.06-.94-.94-2.06-.94 2.06-2.06.94zm-11 1L8.5 8.5l.94-2.06 2.06-.94-2.06-.94L8.5 2.5l-.94 2.06-2.06.94zm10 10l.94 2.06.94-2.06 2.06-.94-2.06-.94-.94-2.06-.94 2.06-2.06.94z\"/><path d=\"M17.41 7.96l-1.37-1.37c-.4-.4-.92-.59-1.43-.59-.52 0-1.04.2-1.43.59L10.3 9.45l-7.72 7.72c-.78.78-.78 2.05 0 2.83L4 21.41c.39.39.9.59 1.41.59.51 0 1.02-.2 1.41-.59l7.78-7.78 2.81-2.81c.8-.78.8-2.07 0-2.86zM5.41 20L4 18.59l7.72-7.72 1.47 1.35L5.41 20z\"/>\n",
              "  </svg>\n",
              "      </button>\n",
              "      \n",
              "  <style>\n",
              "    .colab-df-container {\n",
              "      display:flex;\n",
              "      flex-wrap:wrap;\n",
              "      gap: 12px;\n",
              "    }\n",
              "\n",
              "    .colab-df-convert {\n",
              "      background-color: #E8F0FE;\n",
              "      border: none;\n",
              "      border-radius: 50%;\n",
              "      cursor: pointer;\n",
              "      display: none;\n",
              "      fill: #1967D2;\n",
              "      height: 32px;\n",
              "      padding: 0 0 0 0;\n",
              "      width: 32px;\n",
              "    }\n",
              "\n",
              "    .colab-df-convert:hover {\n",
              "      background-color: #E2EBFA;\n",
              "      box-shadow: 0px 1px 2px rgba(60, 64, 67, 0.3), 0px 1px 3px 1px rgba(60, 64, 67, 0.15);\n",
              "      fill: #174EA6;\n",
              "    }\n",
              "\n",
              "    [theme=dark] .colab-df-convert {\n",
              "      background-color: #3B4455;\n",
              "      fill: #D2E3FC;\n",
              "    }\n",
              "\n",
              "    [theme=dark] .colab-df-convert:hover {\n",
              "      background-color: #434B5C;\n",
              "      box-shadow: 0px 1px 3px 1px rgba(0, 0, 0, 0.15);\n",
              "      filter: drop-shadow(0px 1px 2px rgba(0, 0, 0, 0.3));\n",
              "      fill: #FFFFFF;\n",
              "    }\n",
              "  </style>\n",
              "\n",
              "      <script>\n",
              "        const buttonEl =\n",
              "          document.querySelector('#df-3b37b539-9e9b-4226-bc40-830e37755c3e button.colab-df-convert');\n",
              "        buttonEl.style.display =\n",
              "          google.colab.kernel.accessAllowed ? 'block' : 'none';\n",
              "\n",
              "        async function convertToInteractive(key) {\n",
              "          const element = document.querySelector('#df-3b37b539-9e9b-4226-bc40-830e37755c3e');\n",
              "          const dataTable =\n",
              "            await google.colab.kernel.invokeFunction('convertToInteractive',\n",
              "                                                     [key], {});\n",
              "          if (!dataTable) return;\n",
              "\n",
              "          const docLinkHtml = 'Like what you see? Visit the ' +\n",
              "            '<a target=\"_blank\" href=https://colab.research.google.com/notebooks/data_table.ipynb>data table notebook</a>'\n",
              "            + ' to learn more about interactive tables.';\n",
              "          element.innerHTML = '';\n",
              "          dataTable['output_type'] = 'display_data';\n",
              "          await google.colab.output.renderOutput(dataTable, element);\n",
              "          const docLink = document.createElement('div');\n",
              "          docLink.innerHTML = docLinkHtml;\n",
              "          element.appendChild(docLink);\n",
              "        }\n",
              "      </script>\n",
              "    </div>\n",
              "  </div>\n",
              "  "
            ]
          },
          "metadata": {},
          "execution_count": 12
        }
      ]
    },
    {
      "cell_type": "code",
      "source": [
        "df_total.info()"
      ],
      "metadata": {
        "colab": {
          "base_uri": "https://localhost:8080/"
        },
        "id": "to_bngldh1Lj",
        "outputId": "aaf2d57f-21ed-42b0-d4d6-98a003b29d63"
      },
      "execution_count": 13,
      "outputs": [
        {
          "output_type": "stream",
          "name": "stdout",
          "text": [
            "<class 'pandas.core.frame.DataFrame'>\n",
            "RangeIndex: 50 entries, 0 to 49\n",
            "Data columns (total 78 columns):\n",
            " #   Column      Non-Null Count  Dtype \n",
            "---  ------      --------------  ----- \n",
            " 0   marca_id    50 non-null     int64 \n",
            " 1   marca       50 non-null     object\n",
            " 2   antiss      50 non-null     object\n",
            " 3   AV          50 non-null     object\n",
            " 4   BA          50 non-null     object\n",
            " 5   BC          50 non-null     object\n",
            " 6   DRML        50 non-null     object\n",
            " 7   dresc       50 non-null     object\n",
            " 8   DI          50 non-null     object\n",
            " 9   EEG         50 non-null     object\n",
            " 10  EC          50 non-null     object\n",
            " 11  ES          50 non-null     object\n",
            " 12  FAFP        50 non-null     object\n",
            " 13  HTID        50 non-null     object\n",
            " 14  LADON       50 non-null     object\n",
            " 15  LSR         50 non-null     object\n",
            " 16  RE          50 non-null     object\n",
            " 17  RP          50 non-null     object\n",
            " 18  SBF         50 non-null     object\n",
            " 19  SS          50 non-null     object\n",
            " 20  SMB         50 non-null     object\n",
            " 21  UA          50 non-null     object\n",
            " 22  ACA_01      50 non-null     object\n",
            " 23  AV_01       50 non-null     object\n",
            " 24  BC_01       50 non-null     object\n",
            " 25  CH_01       50 non-null     object\n",
            " 26  CTE_01      50 non-null     object\n",
            " 27  DM_01       50 non-null     object\n",
            " 28  discrim_01  50 non-null     object\n",
            " 29  ETL_01      50 non-null     object\n",
            " 30  EEG_01      50 non-null     object\n",
            " 31  EC_01       50 non-null     object\n",
            " 32  ES_01       50 non-null     object\n",
            " 33  FF_01       50 non-null     object\n",
            " 34  HI_01       50 non-null     object\n",
            " 35  LDN_01      50 non-null     object\n",
            " 36  SR_01       50 non-null     object\n",
            " 37  MEM_01      50 non-null     object\n",
            " 38  PHE_01      50 non-null     object\n",
            " 39  RR_01       50 non-null     object\n",
            " 40  RRP_01      50 non-null     object\n",
            " 41  SBF_01      50 non-null     object\n",
            " 42  SS_01       50 non-null     object\n",
            " 43  subc_01     50 non-null     object\n",
            " 44  TC_01       50 non-null     object\n",
            " 45  TEC_01      50 non-null     object\n",
            " 46  TI_01       50 non-null     object\n",
            " 47  usoAgua_01  50 non-null     object\n",
            " 48  ACA_02      50 non-null     object\n",
            " 49  AV_02       50 non-null     object\n",
            " 50  BA.1        50 non-null     object\n",
            " 51  BC_02       50 non-null     object\n",
            " 52  CH_02       50 non-null     object\n",
            " 53  CTE_02      50 non-null     object\n",
            " 54  DM_02       50 non-null     object\n",
            " 55  discrim_02  50 non-null     object\n",
            " 56  DI.1        50 non-null     object\n",
            " 57  ELT_02      50 non-null     object\n",
            " 58  EEG_02      50 non-null     object\n",
            " 59  EC_02       50 non-null     object\n",
            " 60  ES_02       50 non-null     object\n",
            " 61  FF_02       50 non-null     object\n",
            " 62  HI_02       50 non-null     object\n",
            " 63  LDN_02      50 non-null     object\n",
            " 64  SR_02       50 non-null     object\n",
            " 65  SRR         50 non-null     object\n",
            " 66  MEM_02      50 non-null     object\n",
            " 67  PHE_02      50 non-null     object\n",
            " 68  RR_02       50 non-null     object\n",
            " 69  RRP_02      50 non-null     object\n",
            " 70  SBF_02      50 non-null     object\n",
            " 71  SS_02       50 non-null     object\n",
            " 72  SMB.1       50 non-null     object\n",
            " 73  subc_02     50 non-null     object\n",
            " 74  TC_02       50 non-null     object\n",
            " 75  TEC_02      50 non-null     object\n",
            " 76  TI_02       50 non-null     object\n",
            " 77  usuAgua_02  50 non-null     object\n",
            "dtypes: int64(1), object(77)\n",
            "memory usage: 30.6+ KB\n"
          ]
        }
      ]
    },
    {
      "cell_type": "code",
      "source": [
        "df_total.describe()"
      ],
      "metadata": {
        "colab": {
          "base_uri": "https://localhost:8080/",
          "height": 300
        },
        "id": "3YLaG5O4h4Lp",
        "outputId": "13d08dbc-7af3-4650-ff8c-32722e60318e"
      },
      "execution_count": 14,
      "outputs": [
        {
          "output_type": "execute_result",
          "data": {
            "text/plain": [
              "       marca_id\n",
              "count  50.00000\n",
              "mean   25.50000\n",
              "std    14.57738\n",
              "min     1.00000\n",
              "25%    13.25000\n",
              "50%    25.50000\n",
              "75%    37.75000\n",
              "max    50.00000"
            ],
            "text/html": [
              "\n",
              "  <div id=\"df-e7030b34-ea10-4968-8968-c3f702a96374\">\n",
              "    <div class=\"colab-df-container\">\n",
              "      <div>\n",
              "<style scoped>\n",
              "    .dataframe tbody tr th:only-of-type {\n",
              "        vertical-align: middle;\n",
              "    }\n",
              "\n",
              "    .dataframe tbody tr th {\n",
              "        vertical-align: top;\n",
              "    }\n",
              "\n",
              "    .dataframe thead th {\n",
              "        text-align: right;\n",
              "    }\n",
              "</style>\n",
              "<table border=\"1\" class=\"dataframe\">\n",
              "  <thead>\n",
              "    <tr style=\"text-align: right;\">\n",
              "      <th></th>\n",
              "      <th>marca_id</th>\n",
              "    </tr>\n",
              "  </thead>\n",
              "  <tbody>\n",
              "    <tr>\n",
              "      <th>count</th>\n",
              "      <td>50.00000</td>\n",
              "    </tr>\n",
              "    <tr>\n",
              "      <th>mean</th>\n",
              "      <td>25.50000</td>\n",
              "    </tr>\n",
              "    <tr>\n",
              "      <th>std</th>\n",
              "      <td>14.57738</td>\n",
              "    </tr>\n",
              "    <tr>\n",
              "      <th>min</th>\n",
              "      <td>1.00000</td>\n",
              "    </tr>\n",
              "    <tr>\n",
              "      <th>25%</th>\n",
              "      <td>13.25000</td>\n",
              "    </tr>\n",
              "    <tr>\n",
              "      <th>50%</th>\n",
              "      <td>25.50000</td>\n",
              "    </tr>\n",
              "    <tr>\n",
              "      <th>75%</th>\n",
              "      <td>37.75000</td>\n",
              "    </tr>\n",
              "    <tr>\n",
              "      <th>max</th>\n",
              "      <td>50.00000</td>\n",
              "    </tr>\n",
              "  </tbody>\n",
              "</table>\n",
              "</div>\n",
              "      <button class=\"colab-df-convert\" onclick=\"convertToInteractive('df-e7030b34-ea10-4968-8968-c3f702a96374')\"\n",
              "              title=\"Convert this dataframe to an interactive table.\"\n",
              "              style=\"display:none;\">\n",
              "        \n",
              "  <svg xmlns=\"http://www.w3.org/2000/svg\" height=\"24px\"viewBox=\"0 0 24 24\"\n",
              "       width=\"24px\">\n",
              "    <path d=\"M0 0h24v24H0V0z\" fill=\"none\"/>\n",
              "    <path d=\"M18.56 5.44l.94 2.06.94-2.06 2.06-.94-2.06-.94-.94-2.06-.94 2.06-2.06.94zm-11 1L8.5 8.5l.94-2.06 2.06-.94-2.06-.94L8.5 2.5l-.94 2.06-2.06.94zm10 10l.94 2.06.94-2.06 2.06-.94-2.06-.94-.94-2.06-.94 2.06-2.06.94z\"/><path d=\"M17.41 7.96l-1.37-1.37c-.4-.4-.92-.59-1.43-.59-.52 0-1.04.2-1.43.59L10.3 9.45l-7.72 7.72c-.78.78-.78 2.05 0 2.83L4 21.41c.39.39.9.59 1.41.59.51 0 1.02-.2 1.41-.59l7.78-7.78 2.81-2.81c.8-.78.8-2.07 0-2.86zM5.41 20L4 18.59l7.72-7.72 1.47 1.35L5.41 20z\"/>\n",
              "  </svg>\n",
              "      </button>\n",
              "      \n",
              "  <style>\n",
              "    .colab-df-container {\n",
              "      display:flex;\n",
              "      flex-wrap:wrap;\n",
              "      gap: 12px;\n",
              "    }\n",
              "\n",
              "    .colab-df-convert {\n",
              "      background-color: #E8F0FE;\n",
              "      border: none;\n",
              "      border-radius: 50%;\n",
              "      cursor: pointer;\n",
              "      display: none;\n",
              "      fill: #1967D2;\n",
              "      height: 32px;\n",
              "      padding: 0 0 0 0;\n",
              "      width: 32px;\n",
              "    }\n",
              "\n",
              "    .colab-df-convert:hover {\n",
              "      background-color: #E2EBFA;\n",
              "      box-shadow: 0px 1px 2px rgba(60, 64, 67, 0.3), 0px 1px 3px 1px rgba(60, 64, 67, 0.15);\n",
              "      fill: #174EA6;\n",
              "    }\n",
              "\n",
              "    [theme=dark] .colab-df-convert {\n",
              "      background-color: #3B4455;\n",
              "      fill: #D2E3FC;\n",
              "    }\n",
              "\n",
              "    [theme=dark] .colab-df-convert:hover {\n",
              "      background-color: #434B5C;\n",
              "      box-shadow: 0px 1px 3px 1px rgba(0, 0, 0, 0.15);\n",
              "      filter: drop-shadow(0px 1px 2px rgba(0, 0, 0, 0.3));\n",
              "      fill: #FFFFFF;\n",
              "    }\n",
              "  </style>\n",
              "\n",
              "      <script>\n",
              "        const buttonEl =\n",
              "          document.querySelector('#df-e7030b34-ea10-4968-8968-c3f702a96374 button.colab-df-convert');\n",
              "        buttonEl.style.display =\n",
              "          google.colab.kernel.accessAllowed ? 'block' : 'none';\n",
              "\n",
              "        async function convertToInteractive(key) {\n",
              "          const element = document.querySelector('#df-e7030b34-ea10-4968-8968-c3f702a96374');\n",
              "          const dataTable =\n",
              "            await google.colab.kernel.invokeFunction('convertToInteractive',\n",
              "                                                     [key], {});\n",
              "          if (!dataTable) return;\n",
              "\n",
              "          const docLinkHtml = 'Like what you see? Visit the ' +\n",
              "            '<a target=\"_blank\" href=https://colab.research.google.com/notebooks/data_table.ipynb>data table notebook</a>'\n",
              "            + ' to learn more about interactive tables.';\n",
              "          element.innerHTML = '';\n",
              "          dataTable['output_type'] = 'display_data';\n",
              "          await google.colab.output.renderOutput(dataTable, element);\n",
              "          const docLink = document.createElement('div');\n",
              "          docLink.innerHTML = docLinkHtml;\n",
              "          element.appendChild(docLink);\n",
              "        }\n",
              "      </script>\n",
              "    </div>\n",
              "  </div>\n",
              "  "
            ]
          },
          "metadata": {},
          "execution_count": 14
        }
      ]
    },
    {
      "cell_type": "code",
      "source": [
        "total_01 = ['3.5', '3.75', '2', '3.25', '0', '0', '4.75', '0', '0','1.25',\n",
        "        '0', '0', '4', '2', '2.75', '0.25', '0', '1.5', '1.25', '3.75',\n",
        "        '0', '3.5', '3.75', '0', '4.5', '2.75', '0', '2.75','0', '0', \n",
        "        '0', '3', '4.5', '1.5', '0', '4.5', '0', '0', '0', '0.75', '4',\n",
        "        '4.25', '0', '3.25', '4', '0', '0', '2.25', '3.25', '4.25']\n",
        "df_total['total_01'] = total_01 "
      ],
      "metadata": {
        "id": "hF7MWO3Sh7rK"
      },
      "execution_count": 15,
      "outputs": []
    },
    {
      "cell_type": "code",
      "source": [
        "total_02 = ['8.5', '0', '1', '2.75', '0', '0', '8.75', '0', '0', \n",
        "         '0.5', '0', '0', '9', '0.25', '6.5', '0', '0', '1.5', '3.5',\n",
        "         '0', '0', '8.75', '8.25', '0', '5.25', '4', '0', '4', '0',\n",
        "         '0', '0', '4.5', '8.75', '7.25', '0', '5.25', '0', '1.5', \n",
        "         '0', '0', '7.75', '7', '0', '8', '7.25', '0', '0', '0', '8', '8.5']\n",
        "df_total['total_02'] = total_02"
      ],
      "metadata": {
        "id": "SXhoCggLh_0i"
      },
      "execution_count": 16,
      "outputs": []
    },
    {
      "cell_type": "code",
      "source": [
        "total_03 = ['14.5', '7.5', '5.5', '6.5', '0.5', '0', '15', '0.5', '0', '0',\n",
        "         '0', '0', '11', '0', '10', '3', '0', '1', '0.5', '7.5', '0', '8.5',\n",
        "         '9.5', '2', '10', '3', '0', '3', '0', '0', '0', '8', '12', '2', '0',\n",
        "         '10', '0', '0.5', '0', '4.5', '10', '10.5', '1', '11.5', '11.5', '0', \n",
        "         '0', '0', '11.5', '13.5']\n",
        "df_total['total_03'] = total_03"
      ],
      "metadata": {
        "id": "KT2YW8DjiFsn"
      },
      "execution_count": 17,
      "outputs": []
    },
    {
      "cell_type": "code",
      "source": [
        "for col in df_total.columns:\n",
        "  df_total[col] = df_total[col].astype(str)\n",
        "  df_total[col] = df_total[col].str.replace(',','.')"
      ],
      "metadata": {
        "id": "2Fv0gY5SiKL0"
      },
      "execution_count": 18,
      "outputs": []
    },
    {
      "cell_type": "code",
      "source": [
        "# Generate a \"clean data file\"\n",
        "df_total.to_csv(artifact_name,index=False)"
      ],
      "metadata": {
        "id": "RsMRfbIriNRm"
      },
      "execution_count": 19,
      "outputs": []
    },
    {
      "cell_type": "code",
      "source": [
        "# Create a new artifact and configure with the necessary arguments\n",
        "artifact = wandb.Artifact(name=artifact_name,\n",
        "                          type=artifact_type,\n",
        "                          description=artifact_description)\n",
        "artifact.add_file(artifact_name)"
      ],
      "metadata": {
        "colab": {
          "base_uri": "https://localhost:8080/"
        },
        "id": "h0T5p7w2iVNr",
        "outputId": "684ce389-ca79-4ec5-d1c3-dbf566aadf4f"
      },
      "execution_count": 20,
      "outputs": [
        {
          "output_type": "execute_result",
          "data": {
            "text/plain": [
              "<ManifestEntry digest: 2ENpjMZeCj/YInJ8Veuidg==>"
            ]
          },
          "metadata": {},
          "execution_count": 20
        }
      ]
    },
    {
      "cell_type": "code",
      "source": [
        "# Upload the artifact to Wandb\n",
        "run.log_artifact(artifact)"
      ],
      "metadata": {
        "colab": {
          "base_uri": "https://localhost:8080/"
        },
        "id": "p6w9w6TAiXhq",
        "outputId": "d468c57e-bda7-4897-edf1-3376dead22fd"
      },
      "execution_count": 21,
      "outputs": [
        {
          "output_type": "execute_result",
          "data": {
            "text/plain": [
              "<wandb.sdk.wandb_artifacts.Artifact at 0x7f8332456cd0>"
            ]
          },
          "metadata": {},
          "execution_count": 21
        }
      ]
    }
  ]
}